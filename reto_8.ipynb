{
 "cells": [
  {
   "cell_type": "code",
   "execution_count": null,
   "metadata": {},
   "outputs": [],
   "source": [
    "# reto 8 1\n",
    "if __name__ == \"__main__\":\n",
    "    for i in range (1, 101): #planteamiento del rango especificado (1 a 100)\n",
    "        i_cuadrado = i ** 2 # calculo del cuadrado para cada numero dentro del rango\n",
    "        print(f\"El cuadrado de {i} es {i_cuadrado}\") # impresion del numero y su cuadrado"
   ]
  },
  {
   "cell_type": "code",
   "execution_count": null,
   "metadata": {},
   "outputs": [],
   "source": [
    "# reto 8 2\n",
    "if __name__ == \"__main__\":\n",
    "    print(\"Numeros impares\")\n",
    "    for i in range (1, 1000, 2): # planteamiento del rango especificado para impares (1 a 999) con escalado de 2 para saltar pares\n",
    "        print(f\"{i}\") # impresion del impar\n",
    "    print(\"\")\n",
    "    print(\"Numeros pares\")\n",
    "    for i in range (2, 1001, 2): # planteamiento del rango especificado para pares (2 a 1000) con escalado de 2 para saltar impares\n",
    "        print(f\"{i}\") # impresion del par"
   ]
  },
  {
   "cell_type": "code",
   "execution_count": null,
   "metadata": {},
   "outputs": [],
   "source": [
    "# reto 8 3\n",
    "if __name__ == \"__main__\":\n",
    "    try:\n",
    "        n : int = int(input(\"Por favor, ingrese un numero entero mayor que dos para comenzar la sucesion: \")) # ingreso del entero n\n",
    "        while n < 2: # condicion de ser mayor que 2\n",
    "            n = int(input(\"EL numero ingresado no se encuentra dentro de la condicion establecida, intentelo de nuevo: \"))\n",
    "        if n%2 != 0: # si es impar, llevarlo al par mas cercano (n - 1)\n",
    "            n -= 1\n",
    "        if n%2 == 0: \n",
    "            for i in range (n, 1 ,-2): # planteamiento del rango especificado (n , 2) con escalado -2 para ir decreciendo en pares \n",
    "                print(i) # impresion del par\n",
    "    except ValueError: \n",
    "        print(\"El numero ingresado no se trata de un numero entero\")"
   ]
  },
  {
   "cell_type": "code",
   "execution_count": null,
   "metadata": {},
   "outputs": [],
   "source": [
    "# reto 8 4\n",
    "fact : int = 1 # constante de factorial base\n",
    "if __name__ == \"__main__\":\n",
    "    try:\n",
    "        n : int = int(input(\"Ingrese un numero entero positivo al que obtener el factorial: \")) # ingreso de n para n!\n",
    "        while n < 0:\n",
    "            n = int(input(\"El numero ingresado no se trataba de un entero positivo, por favor intentelo de nuevo: \"))\n",
    "        if n == 0: # condicion para factorial base = 1\n",
    "            print(f\"el factorial de {n} es {fact}\")\n",
    "        for i in range (fact , n+1): # planteamiento del rango especificado (1, n) \n",
    "            fact = fact * i # operacion de factorial desde 1 hasta n\n",
    "            print(f\"el factorial de {i} es {fact}\") # impresion de cada factorial hasta n!\n",
    "    except ValueError:\n",
    "        print(\"El numero ingresado no se trata de un numero entero positivo\")"
   ]
  },
  {
   "cell_type": "code",
   "execution_count": null,
   "metadata": {},
   "outputs": [],
   "source": [
    "# reto 8 5\n",
    "exp : int = 1   # constante de potencia neutro\n",
    "if __name__ == \"__main__\":\n",
    "    try:\n",
    "        n : int = int(input(\"Ingrese el exponente para la base 2: \"))   # ingreso del exponente\n",
    "        if n >= 0 or n <= 0:    # inicio de secuencia con potencia neutro\n",
    "            print(f\"2 ** 0 = {exp}\")\n",
    "        if n > 0:   # exponente positivo\n",
    "            for i in range (1, n + 1):  # planteamiento del rango (1, n) para el numero de multiplicaciones por si mismo para la base\n",
    "                exp *= 2    # multiplicacion de base por si mismo\n",
    "                print(f\"2 ** {i} = {exp}\")  # impresion de cada exponente hasta n\n",
    "        if n < 0:   # exponente negativo\n",
    "            n *= -1     # cambio de signo para el exponente\n",
    "            for i in range (1, n + 1):  # planteamiento del rango (1, n) para el numero de multiplicaciones por si mismo para la base\n",
    "                exp *= 2    # multiplicacion de base por si mismo\n",
    "                print(f\"2 ** -{i} = 1/{exp} ({1/exp})\")     # reexpresion de exponente negativo 2 ^ -n = 1 / 2 ^ n e impresion de cada exponente hasta n\n",
    "    except ValueError:\n",
    "        print(\"El valor ingresado no se trata de un numero entero\")"
   ]
  },
  {
   "cell_type": "code",
   "execution_count": null,
   "metadata": {},
   "outputs": [],
   "source": [
    "# reto 8 6\n",
    "exp : int = 1   # constante de potencia neutro\n",
    "if __name__ == \"__main__\":\n",
    "    try:\n",
    "        x : int = int(input(\"Ingrese la base de la potencia: \"))    # ingreso de la base\n",
    "        n : int = int(input(\"Ingrese el exponente para la base: \"))     # ingreso del exponente\n",
    "        if n >= 0 or n <= 0:    # inicio de secuencia con potencia neutro\n",
    "            print(f\"{x} ** 0 = {exp}\")\n",
    "        if n > 0:   # exponente positivo\n",
    "            for i in range (1, n + 1):  # planteamiento del rango (1, n) para el numero de multiplicaciones por si mismo para la base\n",
    "                exp *= x     # multiplicacion de base por si mismo\n",
    "                print(f\"{x} ** {i} = {exp}\")  # impresion de cada exponente hasta n\n",
    "        if n < 0:   # exponente negativo\n",
    "            n *= -1     # cambio de signo para el exponente\n",
    "            for i in range (1, n + 1):  # planteamiento del rango (1, n) para el numero de multiplicaciones por si mismo para la base\n",
    "                exp *= x    # multiplicacion de base por si mismo\n",
    "                print(f\"{x} ** -{i} = 1/{exp} ({1/exp})\")     # reexpresion de exponente negativo x ^ -n = 1 / x ^ n e impresion de cada exponente hasta n\n",
    "    except ValueError:\n",
    "        print(\"El valor ingresado no se trata de un numero entero\")"
   ]
  },
  {
   "cell_type": "code",
   "execution_count": null,
   "metadata": {},
   "outputs": [],
   "source": [
    "# reto 8 7\n",
    "if __name__ == \"__main__\":\n",
    "    for i in range (1, 10): # planteamiento del rango (1, 9) para las tablas\n",
    "        print(f\"tabla del {i}\") \n",
    "        for n in range (1,11): # planteamiento del rango (1, 10) para la multiplicacion de cada tabla\n",
    "            mult = i * n # resultado de la multiplicacion \n",
    "            print(f\"{i} * {n} = {mult}\") # impresion de la multiplicacion\n",
    "        print(\"\")"
   ]
  },
  {
   "cell_type": "code",
   "execution_count": 3,
   "metadata": {},
   "outputs": [
    {
     "name": "stdout",
     "output_type": "stream",
     "text": [
      "33.081694251166454\n",
      "33.11545195869231\n",
      "0.10193944376168192%\n"
     ]
    }
   ],
   "source": [
    "# reto 8 8\n",
    "from math import exp # importacion de funcion exponencial\n",
    "\n",
    "def factorial_funcion (num : int) -> int: \n",
    "    fact : int = 1      #constante \n",
    "    numero : int = 1    #constante\n",
    "    while num > 1: #limite de regresion\n",
    "        fact = fact * num #operacion de factorial\n",
    "        num -= 1 #regresion hasta 1\n",
    "        numero += 1\n",
    "    if num == 0: #caso especial 0!\n",
    "        fact = 1\n",
    "        numero = 0\n",
    "    return fact\n",
    "\n",
    "def expo (x : float, n : int = 10, fun : float = 0) -> float:\n",
    "    for i in range (0, n + 1): # planteamiento del rango (0, n) para la sumatoria\n",
    "        fun += (x ** i) / factorial_funcion(i) # sumatoria de serie de mclaurin para aproximacion exponencial\n",
    "    return fun\n",
    "if __name__ == \"__main__\":\n",
    "    try:\n",
    "        x : float = float(input(\"Ingrese a x: \")) # Ingreso de exponente para e \n",
    "        n : int = int(input(\"Ingrese a n: \")) # ingreso de numero de sumas\n",
    "        expo_real = exp(x) # funcion exponencial importada\n",
    "        expo_aprox = expo(x, n) # funcion exponencial aproximada\n",
    "        print(expo_aprox)\n",
    "        print(expo_real)\n",
    "        error : float = abs(expo_real - expo_aprox) / expo_real * 100 # porcentaje de error entre funcion real y aproximacion\n",
    "        print(f\"{error}%\")\n",
    "    except ValueError:\n",
    "        print(\"El valor ingresado no se trata de un numero real / entero\")\n",
    "\n",
    "    # con 10 sumas, el valor a partir del que el margen de error es de 0.1% es con una x = 3.5 O x = -2.19\n"
   ]
  },
  {
   "cell_type": "code",
   "execution_count": 2,
   "metadata": {},
   "outputs": [
    {
     "name": "stdout",
     "output_type": "stream",
     "text": [
      "0.4858823746899415\n",
      "0.48539481567229026\n",
      "0.10044586425505025%\n"
     ]
    }
   ],
   "source": [
    "# reto 8 9\n",
    "from math import sin # importacion de funcion seno\n",
    "\n",
    "def factorial_funcion (num : int) -> int: \n",
    "    fact : int = 1      #constante \n",
    "    numero : int = 1    #constante\n",
    "    while num > 1: #limite de regresion\n",
    "        fact = fact * num #operacion de factorial\n",
    "        num -= 1 #regresion hasta 1\n",
    "        numero += 1\n",
    "    if num == 0: #caso especial 0!\n",
    "        fact = 1\n",
    "        numero = 0\n",
    "    return fact\n",
    "\n",
    "def sen (x : float, n : int = 10, fun : float = 0) -> float:\n",
    "    for i in range (0, n + 1): # planteamiento del rango (0, n) para la sumatoria\n",
    "        fun += (-1) ** i * ((x ** (2 * i + 1)) / factorial_funcion(2 * i + 1)) # sumatoria de serie de mclaurin para aproximacion del seno \n",
    "    return fun\n",
    "if __name__ == \"__main__\":\n",
    "    try:\n",
    "        x : float = float(input(\"Ingrese a x: \")) # Ingreso de valor para el seno\n",
    "        while x == 0:\n",
    "            x = float(input(\"El valor ingresado no es aceptado para la funcion, intentelo de nuevo: \"))\n",
    "        n : int = int(input(\"Ingrese a n: \")) # ingreso de numero de sumas\n",
    "        sen_real = sin(x) # funcion seno importada\n",
    "        sen_aprox = sen(x , n) # funcion seno aproximada\n",
    "        print(sen_aprox)\n",
    "        print(sen_real)\n",
    "        error : float = abs(sen_real - sen_aprox) / sen_real * 100 # porcentaje de error entre funcion real y aproximacion\n",
    "        print(f\"{error}%\")\n",
    "    except ValueError:\n",
    "        print(\"El valor ingresado no se trata de un numero real / entero\")\n",
    "    \n",
    "    # con 10 sumas, el valor a partir del que el margen de error es de 0.1% es con una x = 6.79 O x = -6.79"
   ]
  },
  {
   "cell_type": "code",
   "execution_count": 144,
   "metadata": {},
   "outputs": [
    {
     "name": "stdout",
     "output_type": "stream",
     "text": [
      "-0.7080985835524567\n",
      "-0.7073896692955131\n",
      "-0.10021552302985187%\n"
     ]
    }
   ],
   "source": [
    "# reto 8 10 \n",
    "from math import atan # importacion de funcion arcotangente \n",
    "def arctan (x : float, n : int = 10, fun : float = 0) -> float:\n",
    "    for i in range (0, n + 1): # planteamiento del rango (0, n) para la sumatoria\n",
    "        fun += (-1) ** i * ((x ** (2 * i + 1)) / (2 * i + 1)) # sumatoria de serie de mclaurin para aproximacion del arcotangente \n",
    "    return fun\n",
    "if __name__ == \"__main__\":\n",
    "    try:\n",
    "        x : float = float(input(\"Ingrese a x, recuerde que este debe estar en un rango de -1 a 1: \")) # Ingreso de valor para la arcotangente\n",
    "        while x < -1 or x > 1 or x == 0:\n",
    "            x = float(input(\"El x ingresado no corresponde al rango establecido, intentelo de nuevo: \"))\n",
    "        n : int = int(input(\"Ingrese a n: \")) # ingreso de numero de sumas\n",
    "        arctan_real = atan(x) # funcion arcotangente importada\n",
    "        arctan_aprox = arctan(x, n) # funcion arcotangente aproximada\n",
    "        print(arctan_aprox) \n",
    "        print(arctan_real) \n",
    "        error : float = abs(arctan_real - arctan_aprox) / arctan_real * 100 # porcentaje de error entre funcion real y aproximacion\n",
    "        print(f\"{error}%\")\n",
    "    except ValueError:\n",
    "        print(\"El valor ingresado no se trata de un numero real / entero\")\n",
    "\n",
    "    # con 10 sumas, el valor a partir del que el margen de error es de 0.1% es con una x = 0.855 O x = -0.855"
   ]
  }
 ],
 "metadata": {
  "kernelspec": {
   "display_name": "Python 3",
   "language": "python",
   "name": "python3"
  },
  "language_info": {
   "codemirror_mode": {
    "name": "ipython",
    "version": 3
   },
   "file_extension": ".py",
   "mimetype": "text/x-python",
   "name": "python",
   "nbconvert_exporter": "python",
   "pygments_lexer": "ipython3",
   "version": "3.12.2"
  }
 },
 "nbformat": 4,
 "nbformat_minor": 2
}
